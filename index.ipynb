{
 "cells": [
  {
   "cell_type": "markdown",
   "id": "46dfb674",
   "metadata": {},
   "source": [
    "# Desafíos para programar con objetos y clases\n",
    "\n",
    "A continuación verás varias consignas relacionadas con el tema de [objetos,\n",
    "clases y\n",
    "mensajes](https://github.com/ucudal/PII_Conceptos_de_POO/blob/master/Capitulos/1_Objetos_Clases_Mensajes/1_1_Contenido.md).\n",
    "Debajo de cada consigna hay un espacio para que escribas tu código y, a\n",
    "continuación, código de prueba que funciona correctamente si el código que has\n",
    "escrito es correcto. Para ejecutar el código que has escrito, o el que prueba tu\n",
    "código, oprime `Ctrl+Enter` tanto en Mac como en Windows."
   ]
  },
  {
   "cell_type": "markdown",
   "id": "85d31534",
   "metadata": {},
   "source": [
    "### Desafío 1\n",
    "\n",
    "El contexto es el de una aplicación para registrar información sobre partidos de\n",
    "fútbol.\n",
    "\n",
    "Crea una clase que represente un jugador de fútbol, que llamaremos `Player`. En\n",
    "este contexto nos interesa solamente que el jugador tenga estas\n",
    "responsabilidades:\n",
    "\n",
    "* Conocer el nombre\n",
    "\n",
    "* Conocer el número de la camiseta\n",
    "\n",
    "El nombre es una `string` y el número un `int`. Define una propiedad `Name` para\n",
    "el nombre y otra `Number` para el número. El constructor debe permitir crear una\n",
    "instancia de `Player` con un nombre y un número dados.\n",
    "\n",
    "Escribe tu código a continuación. Recuerda oprimir `Ctrl+Enter` para ejecutar el\n",
    "código que has escrito."
   ]
  },
  {
   "cell_type": "code",
   "execution_count": null,
   "metadata": {
    "language_info": {
     "name": "polyglot-notebook"
    },
    "polyglot_notebook": {
     "kernelName": "csharp"
    }
   },
   "outputs": [],
   "source": []
  },
  {
   "cell_type": "markdown",
   "id": "37f2078f",
   "metadata": {},
   "source": [
    "Prueba tu clase `Player` con el código a continuación. Oprime `Ctrl+Enter` para\n",
    "ejecutarlo."
   ]
  },
  {
   "cell_type": "code",
   "execution_count": 4,
   "id": "3efb94ee",
   "metadata": {
    "language_info": {
     "name": "polyglot-notebook"
    },
    "polyglot_notebook": {
     "kernelName": "csharp"
    }
   },
   "outputs": [],
   "source": [
    "Player arquero = new Player(\"Fernando Muslera\", 1);\n",
    "Player defensorCentral = new Player(\"Diego Lugano\", 2);"
   ]
  },
  {
   "cell_type": "markdown",
   "id": "3eb0732a",
   "metadata": {},
   "source": [
    "### Desafío 2\n",
    "\n",
    "Crea una clase que represente un equipo de fútbol, que llamaremos `Team`. La\n",
    "clase tiene las siguientes responsabilidades:\n",
    "\n",
    "* Conocer el nombre del equipo.\n",
    "\n",
    "* Conocer la lista de titulares.\n",
    "\n",
    "* Conocer la lista de suplentes.\n",
    "\n",
    "* Agregar un jugador.\n",
    "\n",
    "* Cambiar un jugador por otro.\n",
    "\n",
    "Te damos la implementación de la responsabilidad de conocer los titulares en\n",
    "`starters` y una implementación parcial de la responsabilidad de conocer los\n",
    "suplentes en `substitutes`.\n",
    "\n",
    "Al agregar un jugador, si hay menos de 11 titulares, el jugador se agrega a los\n",
    "titulares; si hay 11 o más titulares, el jugador se agrega a los suplentes.\n",
    "\n",
    "El cambio de un jugador por otro se hace mediante los números de camiseta.\n",
    "Deberás buscar los jugadores con esos números, si no existe el que ingresa o el\n",
    "que sale, simplemente no hagas nada.\n",
    "\n",
    "El constructor debe permitir crear una instancia de `Team` con un nombre dado.\n",
    "\n",
    "Escribe tu código a continuación. Recuerda oprimir `Ctrl+Enter` para ejecutar el\n",
    "código que has escrito."
   ]
  },
  {
   "cell_type": "code",
   "execution_count": null,
   "metadata": {
    "language_info": {
     "name": "polyglot-notebook"
    },
    "polyglot_notebook": {
     "kernelName": "csharp"
    }
   },
   "outputs": [],
   "source": [
    "public class Team\n",
    "{\n",
    "    private List<Player> starters;\n",
    "\n",
    "}"
   ]
  },
  {
   "cell_type": "markdown",
   "id": "e9c28e59",
   "metadata": {},
   "source": [
    "Prueba tu clase `Team` con el código a continuación. Deberás también haber \n",
    "programado correctamente la clase `Player`. Oprime `Ctrl+Enter` para ejecutarlo."
   ]
  },
  {
   "cell_type": "code",
   "execution_count": 7,
   "metadata": {
    "language_info": {
     "name": "polyglot-notebook"
    },
    "polyglot_notebook": {
     "kernelName": "csharp"
    }
   },
   "outputs": [],
   "source": [
    "Team uruguay = new Team(\"Uruguay\");\n",
    "uruguay.AddPlayer(new Player(\"Fernando Muslera\", 1));\n",
    "uruguay.AddPlayer(new Player(\"Diego Lugano\", 2));\n",
    "uruguay.AddPlayer(new Player(\"Jorge Fucile\", 4));\n",
    "uruguay.AddPlayer(new Player(\"Mauricio Victorino\", 6));\n",
    "uruguay.AddPlayer(new Player(\"Maximiliano Pereira\", 16));\n",
    "uruguay.AddPlayer(new Player(\"Diego Pérez\", 15));\n",
    "uruguay.AddPlayer(new Player(\"Egidio Arévalo Ríos\", 17));\n",
    "uruguay.AddPlayer(new Player(\"Álvaro Fernández\", 20));\n",
    "uruguay.AddPlayer(new Player(\"Edinson Cavani\", 7));\n",
    "uruguay.AddPlayer(new Player(\"Luis Suárez\", 9));\n",
    "uruguay.AddPlayer(new Player(\"Diego Forlán\", 10));\n",
    "uruguay.AddPlayer(new Player(\"Andrés Scotti\", 19));\n",
    "uruguay.AddPlayer(new Player(\"Nicolás Lodeiro\", 14));\n",
    "uruguay.AddPlayer(new Player(\"Sebastián Abreu\", 13));\n",
    "uruguay.ChangePlayers(2, 19); // Diego Lugano por Andrés Scotti\n",
    "uruguay.ChangePlayers(20, 14); // Álvaro Fernández por Nicolás Lodeiro\n",
    "uruguay.ChangePlayers(7, 13); // Edinson Cavani por Sebastián Abreu"
   ]
  },
  {
   "cell_type": "markdown",
   "id": "99d26923",
   "metadata": {},
   "source": [
    "### Desafío 3\n",
    "\n",
    "Crea una clase que represente un partido de fútbol entre dos equipos, que\n",
    "llamaremos `Match`. Esta clase tiene las siguientes responsabilidades:\n",
    "\n",
    "* Conocer el equipo local\n",
    "\n",
    "* Conocer el equipo visitante\n",
    "\n",
    "Usa `HomeTeam` y `AwayTeam` como identificadores para implementar las\n",
    "responsabiliaddes de conocer antes mencionadas.\n",
    "\n",
    "El constructor debe permitir crear una instancia de `Match` con los equipos\n",
    "local y visitante dados. Una vez creada la instancia, no debe ser posible\n",
    "cambiar los equipoos que se enfrentan.\n",
    "\n",
    "Recuerda oprimir `Ctrl+Enter` para ejecutar el código que has escrito."
   ]
  },
  {
   "cell_type": "code",
   "execution_count": 1,
   "metadata": {
    "language_info": {
     "name": "polyglot-notebook"
    },
    "polyglot_notebook": {
     "kernelName": "csharp"
    }
   },
   "outputs": [],
   "source": []
  },
  {
   "cell_type": "markdown",
   "id": "24ca0aad",
   "metadata": {},
   "source": [
    "Prueba tu clase `Match` con el código a continuación. Deberás también haber\n",
    "programado correctamente las clases `Player` y `Team`. Oprime `Ctrl+Enter` para\n",
    "ejecutarlo."
   ]
  },
  {
   "cell_type": "code",
   "execution_count": 9,
   "metadata": {
    "language_info": {
     "name": "polyglot-notebook"
    },
    "polyglot_notebook": {
     "kernelName": "csharp"
    }
   },
   "outputs": [],
   "source": [
    "Team ghana = new Team(\"Ghana\");\n",
    "Match worldCupMatch = new Match(uruguay, ghana);"
   ]
  },
  {
   "cell_type": "markdown",
   "metadata": {
    "language_info": {
     "name": "polyglot-notebook"
    },
    "polyglot_notebook": {
     "kernelName": "csharp"
    }
   },
   "source": [
    "### Desafío 4\n",
    "\n",
    "Crea una clase `Circle` con las siguientes responsabilidades:\n",
    "\n",
    "* Conocer el radio. Llama a la propiedad `Radius`. Haz que la propiedad sea \n",
    "  de tipo `double`.\n",
    "\n",
    "* Hacer el cálculo del perímetro del círculo. Llama a ese método \n",
    "  `GetPerimeter`. Haz que el método retorne un `double`. \n",
    "  \n",
    "* Hacer el cálculo del área del círculo. Llama a ese método `GetArea`. Haz \n",
    "  que el método retorne un `double`.\n",
    "\n",
    "Para obtener el valor de 𝛑 usa `Math.PI`."
   ]
  },
  {
   "cell_type": "code",
   "execution_count": null,
   "metadata": {
    "language_info": {
     "name": "polyglot-notebook"
    },
    "polyglot_notebook": {
     "kernelName": "csharp"
    }
   },
   "outputs": [],
   "source": []
  },
  {
   "cell_type": "markdown",
   "id": "cf8075cf",
   "metadata": {},
   "source": [
    "Prueba tu clase `Circle` con el código a continuación. Oprime `Ctrl+Enter` para\n",
    "ejecutarlo."
   ]
  },
  {
   "cell_type": "code",
   "execution_count": 12,
   "metadata": {
    "language_info": {
     "name": "polyglot-notebook"
    },
    "polyglot_notebook": {
     "kernelName": "csharp"
    }
   },
   "outputs": [
    {
     "name": "stdout",
     "output_type": "stream",
     "text": [
      "El perímetro del círculo de radio 1 es 6.283185307179586\n",
      "El área del círculo de radio 1 es 3.141592653589793\n",
      "El perímetro del círculo de radio 100 es 628.3185307179587\n",
      "El área del círculo de radio 100 es 31415.926535897932\n"
     ]
    }
   ],
   "source": [
    "Circle circle = new Circle(1);\n",
    "Console.WriteLine($\"El perímetro del círculo de radio {circle.Radius} es {circle.GetPerimeter()}\");\n",
    "Console.WriteLine($\"El área del círculo de radio {circle.Radius} es {circle.GetArea()}\");\n",
    "\n",
    "circle.Radius = 100;\n",
    "Console.WriteLine($\"El perímetro del círculo de radio {circle.Radius} es {circle.GetPerimeter()}\");\n",
    "Console.WriteLine($\"El área del círculo de radio {circle.Radius} es {circle.GetArea()}\");"
   ]
  }
 ],
 "metadata": {
  "kernelspec": {
   "display_name": ".NET (C#)",
   "language": "C#",
   "name": ".net-csharp"
  },
  "language_info": {
   "codemirror_mode": {
    "name": "ipython",
    "version": 3
   },
   "file_extension": ".py",
   "mimetype": "text/x-python",
   "name": "polyglot-notebook",
   "nbconvert_exporter": "python",
   "pygments_lexer": "ipython3",
   "version": "3.9.6"
  },
  "polyglot_notebook": {
   "kernelInfo": {
    "defaultKernelName": "csharp",
    "items": [
     {
      "aliases": [],
      "languageName": "csharp",
      "name": "csharp"
     }
    ]
   }
  }
 },
 "nbformat": 4,
 "nbformat_minor": 5
}
